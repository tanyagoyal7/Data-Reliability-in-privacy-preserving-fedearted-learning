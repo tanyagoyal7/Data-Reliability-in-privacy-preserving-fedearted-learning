{
 "cells": [
  {
   "cell_type": "code",
   "execution_count": 1,
   "id": "f2af883c",
   "metadata": {},
   "outputs": [],
   "source": [
    "import numpy as np\n",
    "import tensorflow as tf\n",
    "import scipy.io\n",
    "import math\n",
    "import matplotlib.pyplot as plt\n",
    "import statistics\n"
   ]
  },
  {
   "cell_type": "code",
   "execution_count": 2,
   "id": "11e4ec51",
   "metadata": {},
   "outputs": [],
   "source": [
    "def Krum(gradients, totalWorkers, malicious,m_list):\n",
    "    with tf.name_scope(\"GAR_krum_tf\"):\n",
    "        nbworkers = totalWorkers\n",
    "        nbbyzwrks=malicious\n",
    "        nbselected=totalWorkers-malicious-1\n",
    "        if nbselected<1:\n",
    "            return float(\"NaN\")\n",
    "        assert len(gradients) > 0, \"Empty list of gradient to aggregate\"\n",
    "      # Distance computations\n",
    "        distances = []        \n",
    "        for i in range(nbworkers - 1):\n",
    "            dists = list()\n",
    "            for j in range(i + 1, nbworkers):\n",
    "                sqr_dst = tf.reduce_sum(tf.math.squared_difference(gradients[i], gradients[j]))\n",
    "                dists.append(tf.math.negative(tf.where(tf.math.is_finite(sqr_dst), sqr_dst, tf.constant(np.inf, dtype=sqr_dst.dtype)))) \n",
    "                # Use of 'negative' to get the smallest distances and score indexes in 'nn.top_k\n",
    "            distances.append(dists)\n",
    "        scores = []\n",
    "        for i in range(nbworkers):\n",
    "            dists = []\n",
    "            for j in range(nbworkers):\n",
    "                if j == i:\n",
    "                    continue\n",
    "                if j < i:\n",
    "                    dists.append(distances[j][i - j - 1])\n",
    "                else:\n",
    "                    dists.append(distances[i][j - i - 1])\n",
    "            dists = tf.stack(values=dists)\n",
    "            dists, _ = tf.nn.top_k(dists, k=(nbworkers - nbbyzwrks - 2), sorted=False)\n",
    "            scores.append(tf.reduce_sum(dists))\n",
    "\n",
    "        gradients = tf.stack(values=gradients)\n",
    "        scores = tf.stack(values=scores)\n",
    "\n",
    "        _, indexes = tf.nn.top_k(scores, k=nbselected, sorted=False)\n",
    "        scores2=tf.math.negative(scores)\n",
    "        \n",
    "        if malicious>0:\n",
    "            _,indexes2=tf.nn.top_k(scores2, k=malicious, sorted=False)\n",
    "            m_list.append(tf.reduce_mean(tf.gather(gradients, indexes2), axis=0))\n",
    "\n",
    "        return tf.reduce_mean(tf.gather(gradients, indexes), axis=0)\n"
   ]
  },
  {
   "cell_type": "code",
   "execution_count": 28,
   "id": "61108b94",
   "metadata": {},
   "outputs": [],
   "source": [
    "\n",
    "mat = scipy.io.loadmat('v_point_no_malicious_corrected_5_malicious_user_percent.mat')\n",
    "mal_per=5\n",
    "surface= scipy.io.loadmat('noise_surface_data.mat')\n",
    "dic=mat['participant_position_measurement_malicious']\n",
    "\n",
    "X=surface['X']\n",
    "Y=surface['Y']\n",
    "X_coordinates=X[0]\n",
    "Y_coordinates=Y[:,0]\n",
    "\n",
    "[length, width]= X.shape\n",
    "time_max=30\n",
    "iteration=100\n",
    "number_of_participants=5000  "
   ]
  },
  {
   "cell_type": "code",
   "execution_count": null,
   "id": "2e7f8b1e",
   "metadata": {},
   "outputs": [],
   "source": [
    "noise_map=[[[float(\"NaN\") for x in range(width)] for y in range(length)] for z in range(time_max)]\n",
    "malicious_map=[[[float(\"NaN\") for x in range(width)] for y in range(length)] for z in range(time_max)]\n",
    "for ti in range(0,30):\n",
    "    noise_input=[[[] for x in range(width)] for y in range(length)]\n",
    "    for itr in range(iteration):\n",
    "        for pi in range(number_of_participants):\n",
    "            if dic[itr][pi][ti][0]==dic[itr][pi][ti][0]:\n",
    "                a_list=np.argwhere(X_coordinates < dic[itr][pi][ti][0])\n",
    "                b_list=np.argwhere(Y_coordinates < dic[itr][pi][ti][1])                   \n",
    "                if len(a_list):\n",
    "                    a=max(a_list)[0]\n",
    "                    if len(b_list):\n",
    "                        b=max(b_list)[0]\n",
    "                        noise_input[a][b].append(dic[itr][pi][ti][2])\n",
    "    for i in range(length):\n",
    "        for j in range(width):\n",
    "            num_workers=len(noise_input[i][j])\n",
    "            num_rounded = round(num_workers/10)*10\n",
    "            #num_malicious=(num_workers+5)//10  #number of malicious users( in this case 10%)\n",
    "           \n",
    "            num_malicious=int(num_rounded*0.01*mal_per)\n",
    "            listCreated=[]\n",
    "            noise_map[ti][i][j]=Krum(noise_input[i][j],num_workers,num_malicious,listCreated)\n",
    "            if num_malicious>0:\n",
    "                malicious_map[ti][i][j]=listCreated[0]\n"
   ]
  },
  {
   "cell_type": "code",
   "execution_count": null,
   "id": "4cf78031",
   "metadata": {},
   "outputs": [],
   "source": [
    "dict2={'noise_map_': noise_map,'malicious_points':malicious_map}\n",
    "dict2.keys()"
   ]
  },
  {
   "cell_type": "code",
   "execution_count": null,
   "id": "7f1a9a83",
   "metadata": {},
   "outputs": [],
   "source": [
    "scipy.io.savemat(\"noise_surface_data_time30_mean_malicious5_.mat\", dict2 )"
   ]
  },
  {
   "cell_type": "code",
   "execution_count": null,
   "id": "5de02db6",
   "metadata": {},
   "outputs": [],
   "source": [
    "# num_workers=18\n",
    "# num_rounded = round(num_workers/10)*10\n",
    "# mal_per=10\n",
    "# num_malicious=num_rounded*0.01*mal_per\n",
    "# type(num_malicious)"
   ]
  },
  {
   "cell_type": "code",
   "execution_count": 1,
   "id": "8bd5fb05",
   "metadata": {},
   "outputs": [],
   "source": [
    "# for i in range(length):\n",
    "#     for j in range(width):\n",
    "#         print(len(noise_input[i][j]))"
   ]
  },
  {
   "cell_type": "code",
   "execution_count": null,
   "id": "ba3a9ec8",
   "metadata": {},
   "outputs": [],
   "source": []
  }
 ],
 "metadata": {
  "kernelspec": {
   "display_name": "Python 3 (ipykernel)",
   "language": "python",
   "name": "python3"
  },
  "language_info": {
   "codemirror_mode": {
    "name": "ipython",
    "version": 3
   },
   "file_extension": ".py",
   "mimetype": "text/x-python",
   "name": "python",
   "nbconvert_exporter": "python",
   "pygments_lexer": "ipython3",
   "version": "3.9.7"
  }
 },
 "nbformat": 4,
 "nbformat_minor": 5
}
